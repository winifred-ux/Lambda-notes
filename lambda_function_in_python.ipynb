{
  "nbformat": 4,
  "nbformat_minor": 0,
  "metadata": {
    "colab": {
      "provenance": [],
      "authorship_tag": "ABX9TyMVJ65+8tA0sKemr4TWz6pf",
      "include_colab_link": true
    },
    "kernelspec": {
      "name": "python3",
      "display_name": "Python 3"
    },
    "language_info": {
      "name": "python"
    }
  },
  "cells": [
    {
      "cell_type": "markdown",
      "metadata": {
        "id": "view-in-github",
        "colab_type": "text"
      },
      "source": [
        "<a href=\"https://colab.research.google.com/github/winifred-ux/Lambda-notes/blob/main/lambda_function_in_python.ipynb\" target=\"_parent\"><img src=\"https://colab.research.google.com/assets/colab-badge.svg\" alt=\"Open In Colab\"/></a>"
      ]
    },
    {
      "cell_type": "code",
      "execution_count": null,
      "metadata": {
        "id": "gegqTUh-Y5Zv"
      },
      "outputs": [],
      "source": [
        "lambda"
      ]
    },
    {
      "cell_type": "markdown",
      "source": [
        "This is a working lambda function"
      ],
      "metadata": {
        "id": "6y6ITN6Xcbjd"
      }
    },
    {
      "cell_type": "code",
      "source": [
        "lambda y: y*2"
      ],
      "metadata": {
        "colab": {
          "base_uri": "https://localhost:8080/"
        },
        "id": "OSQYJ1vucZ9V",
        "outputId": "c9cf937c-4272-420d-d603-25db67dafa96"
      },
      "execution_count": 1,
      "outputs": [
        {
          "output_type": "execute_result",
          "data": {
            "text/plain": [
              "<function __main__.<lambda>(y)>"
            ]
          },
          "metadata": {},
          "execution_count": 1
        }
      ]
    }
  ]
}